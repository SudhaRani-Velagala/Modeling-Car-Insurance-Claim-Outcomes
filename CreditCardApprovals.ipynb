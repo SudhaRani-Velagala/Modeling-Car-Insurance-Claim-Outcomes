{
 "cells": [
  {
   "cell_type": "code",
   "execution_count": 2,
   "id": "37ba94e8-16f9-43c9-9871-6dbbfc4b595b",
   "metadata": {},
   "outputs": [
    {
     "name": "stdout",
     "output_type": "stream",
     "text": [
      "       id  age  gender driving_experience    education         income  \\\n",
      "0  569520    3       0               0-9y  high school    upper class   \n",
      "1  750365    0       1               0-9y         none        poverty   \n",
      "2  199901    0       0               0-9y  high school  working class   \n",
      "3  478866    0       1               0-9y   university  working class   \n",
      "4  731664    1       1             10-19y         none  working class   \n",
      "\n",
      "   credit_score  vehicle_ownership vehicle_year  married  children  \\\n",
      "0      0.629027                1.0   after 2015      0.0       1.0   \n",
      "1      0.357757                0.0  before 2015      0.0       0.0   \n",
      "2      0.493146                1.0  before 2015      0.0       0.0   \n",
      "3      0.206013                1.0  before 2015      0.0       1.0   \n",
      "4      0.388366                1.0  before 2015      0.0       0.0   \n",
      "\n",
      "   postal_code  annual_mileage vehicle_type  speeding_violations  duis  \\\n",
      "0        10238         12000.0        sedan                    0     0   \n",
      "1        10238         16000.0        sedan                    0     0   \n",
      "2        10238         11000.0        sedan                    0     0   \n",
      "3        32765         11000.0        sedan                    0     0   \n",
      "4        32765         12000.0        sedan                    2     0   \n",
      "\n",
      "   past_accidents  outcome  \n",
      "0               0      0.0  \n",
      "1               0      1.0  \n",
      "2               0      0.0  \n",
      "3               0      0.0  \n",
      "4               1      1.0  \n"
     ]
    }
   ],
   "source": [
    "# Credit Card Approval Prediction\n",
    "\n",
    "### Project Overview-This project aims to build a machine learning model to predict credit card application approvals. It includes data preprocessing, exploratory data analysis, model building using Random Forest, and model evaluation.\n",
    "\n",
    "### Dataset-The dataset contains applicant information such as income, age, employment status, and other relevant features affecting approval decisions.\n",
    "\n",
    "\n",
    "\n",
    "\n",
    "import pandas as pd\n",
    "\n",
    "# Load  CSV file\n",
    "df1 = pd.read_csv(r\"C:\\Users\\sudha\\OneDrive\\Desktop\\Car_insurance.csv\")\n",
    "\n",
    "\n",
    "# Preview the DataFrame\n",
    "print(df1.head())\n"
   ]
  },
  {
   "cell_type": "code",
   "execution_count": 57,
   "id": "a84d7d80-df40-4afc-a805-a10872a84359",
   "metadata": {},
   "outputs": [
    {
     "name": "stdout",
     "output_type": "stream",
     "text": [
      "<class 'pandas.core.frame.DataFrame'>\n",
      "RangeIndex: 10000 entries, 0 to 9999\n",
      "Data columns (total 18 columns):\n",
      " #   Column               Non-Null Count  Dtype  \n",
      "---  ------               --------------  -----  \n",
      " 0   id                   10000 non-null  int64  \n",
      " 1   age                  10000 non-null  int64  \n",
      " 2   gender               10000 non-null  int64  \n",
      " 3   driving_experience   10000 non-null  object \n",
      " 4   education            10000 non-null  object \n",
      " 5   income               10000 non-null  object \n",
      " 6   credit_score         9018 non-null   float64\n",
      " 7   vehicle_ownership    10000 non-null  float64\n",
      " 8   vehicle_year         10000 non-null  object \n",
      " 9   married              10000 non-null  float64\n",
      " 10  children             10000 non-null  float64\n",
      " 11  postal_code          10000 non-null  int64  \n",
      " 12  annual_mileage       9043 non-null   float64\n",
      " 13  vehicle_type         10000 non-null  object \n",
      " 14  speeding_violations  10000 non-null  int64  \n",
      " 15  duis                 10000 non-null  int64  \n",
      " 16  past_accidents       10000 non-null  int64  \n",
      " 17  outcome              10000 non-null  float64\n",
      "dtypes: float64(6), int64(7), object(5)\n",
      "memory usage: 1.4+ MB\n"
     ]
    }
   ],
   "source": [
    "df1.info()"
   ]
  },
  {
   "cell_type": "code",
   "execution_count": 55,
   "id": "f7d133f8-cb55-4c3b-94e4-b7fbd0594c74",
   "metadata": {},
   "outputs": [
    {
     "data": {
      "text/html": [
       "<div>\n",
       "<style scoped>\n",
       "    .dataframe tbody tr th:only-of-type {\n",
       "        vertical-align: middle;\n",
       "    }\n",
       "\n",
       "    .dataframe tbody tr th {\n",
       "        vertical-align: top;\n",
       "    }\n",
       "\n",
       "    .dataframe thead th {\n",
       "        text-align: right;\n",
       "    }\n",
       "</style>\n",
       "<table border=\"1\" class=\"dataframe\">\n",
       "  <thead>\n",
       "    <tr style=\"text-align: right;\">\n",
       "      <th></th>\n",
       "      <th>id</th>\n",
       "      <th>age</th>\n",
       "      <th>gender</th>\n",
       "      <th>credit_score</th>\n",
       "      <th>vehicle_ownership</th>\n",
       "      <th>married</th>\n",
       "      <th>children</th>\n",
       "      <th>postal_code</th>\n",
       "      <th>annual_mileage</th>\n",
       "      <th>speeding_violations</th>\n",
       "      <th>duis</th>\n",
       "      <th>past_accidents</th>\n",
       "      <th>outcome</th>\n",
       "    </tr>\n",
       "  </thead>\n",
       "  <tbody>\n",
       "    <tr>\n",
       "      <th>count</th>\n",
       "      <td>10000.000000</td>\n",
       "      <td>10000.000000</td>\n",
       "      <td>10000.000000</td>\n",
       "      <td>9018.000000</td>\n",
       "      <td>10000.000000</td>\n",
       "      <td>10000.000000</td>\n",
       "      <td>10000.000000</td>\n",
       "      <td>10000.000000</td>\n",
       "      <td>9043.000000</td>\n",
       "      <td>10000.000000</td>\n",
       "      <td>10000.00000</td>\n",
       "      <td>10000.000000</td>\n",
       "      <td>10000.000000</td>\n",
       "    </tr>\n",
       "    <tr>\n",
       "      <th>mean</th>\n",
       "      <td>500521.906800</td>\n",
       "      <td>1.489500</td>\n",
       "      <td>0.499000</td>\n",
       "      <td>0.515813</td>\n",
       "      <td>0.697000</td>\n",
       "      <td>0.498200</td>\n",
       "      <td>0.688800</td>\n",
       "      <td>19864.548400</td>\n",
       "      <td>11697.003207</td>\n",
       "      <td>1.482900</td>\n",
       "      <td>0.23920</td>\n",
       "      <td>1.056300</td>\n",
       "      <td>0.313300</td>\n",
       "    </tr>\n",
       "    <tr>\n",
       "      <th>std</th>\n",
       "      <td>290030.768758</td>\n",
       "      <td>1.025278</td>\n",
       "      <td>0.500024</td>\n",
       "      <td>0.137688</td>\n",
       "      <td>0.459578</td>\n",
       "      <td>0.500022</td>\n",
       "      <td>0.463008</td>\n",
       "      <td>18915.613855</td>\n",
       "      <td>2818.434528</td>\n",
       "      <td>2.241966</td>\n",
       "      <td>0.55499</td>\n",
       "      <td>1.652454</td>\n",
       "      <td>0.463858</td>\n",
       "    </tr>\n",
       "    <tr>\n",
       "      <th>min</th>\n",
       "      <td>101.000000</td>\n",
       "      <td>0.000000</td>\n",
       "      <td>0.000000</td>\n",
       "      <td>0.053358</td>\n",
       "      <td>0.000000</td>\n",
       "      <td>0.000000</td>\n",
       "      <td>0.000000</td>\n",
       "      <td>10238.000000</td>\n",
       "      <td>2000.000000</td>\n",
       "      <td>0.000000</td>\n",
       "      <td>0.00000</td>\n",
       "      <td>0.000000</td>\n",
       "      <td>0.000000</td>\n",
       "    </tr>\n",
       "    <tr>\n",
       "      <th>25%</th>\n",
       "      <td>249638.500000</td>\n",
       "      <td>1.000000</td>\n",
       "      <td>0.000000</td>\n",
       "      <td>0.417191</td>\n",
       "      <td>0.000000</td>\n",
       "      <td>0.000000</td>\n",
       "      <td>0.000000</td>\n",
       "      <td>10238.000000</td>\n",
       "      <td>10000.000000</td>\n",
       "      <td>0.000000</td>\n",
       "      <td>0.00000</td>\n",
       "      <td>0.000000</td>\n",
       "      <td>0.000000</td>\n",
       "    </tr>\n",
       "    <tr>\n",
       "      <th>50%</th>\n",
       "      <td>501777.000000</td>\n",
       "      <td>1.000000</td>\n",
       "      <td>0.000000</td>\n",
       "      <td>0.525033</td>\n",
       "      <td>1.000000</td>\n",
       "      <td>0.000000</td>\n",
       "      <td>1.000000</td>\n",
       "      <td>10238.000000</td>\n",
       "      <td>12000.000000</td>\n",
       "      <td>0.000000</td>\n",
       "      <td>0.00000</td>\n",
       "      <td>0.000000</td>\n",
       "      <td>0.000000</td>\n",
       "    </tr>\n",
       "    <tr>\n",
       "      <th>75%</th>\n",
       "      <td>753974.500000</td>\n",
       "      <td>2.000000</td>\n",
       "      <td>1.000000</td>\n",
       "      <td>0.618312</td>\n",
       "      <td>1.000000</td>\n",
       "      <td>1.000000</td>\n",
       "      <td>1.000000</td>\n",
       "      <td>32765.000000</td>\n",
       "      <td>14000.000000</td>\n",
       "      <td>2.000000</td>\n",
       "      <td>0.00000</td>\n",
       "      <td>2.000000</td>\n",
       "      <td>1.000000</td>\n",
       "    </tr>\n",
       "    <tr>\n",
       "      <th>max</th>\n",
       "      <td>999976.000000</td>\n",
       "      <td>3.000000</td>\n",
       "      <td>1.000000</td>\n",
       "      <td>0.960819</td>\n",
       "      <td>1.000000</td>\n",
       "      <td>1.000000</td>\n",
       "      <td>1.000000</td>\n",
       "      <td>92101.000000</td>\n",
       "      <td>22000.000000</td>\n",
       "      <td>22.000000</td>\n",
       "      <td>6.00000</td>\n",
       "      <td>15.000000</td>\n",
       "      <td>1.000000</td>\n",
       "    </tr>\n",
       "  </tbody>\n",
       "</table>\n",
       "</div>"
      ],
      "text/plain": [
       "                  id           age        gender  credit_score  \\\n",
       "count   10000.000000  10000.000000  10000.000000   9018.000000   \n",
       "mean   500521.906800      1.489500      0.499000      0.515813   \n",
       "std    290030.768758      1.025278      0.500024      0.137688   \n",
       "min       101.000000      0.000000      0.000000      0.053358   \n",
       "25%    249638.500000      1.000000      0.000000      0.417191   \n",
       "50%    501777.000000      1.000000      0.000000      0.525033   \n",
       "75%    753974.500000      2.000000      1.000000      0.618312   \n",
       "max    999976.000000      3.000000      1.000000      0.960819   \n",
       "\n",
       "       vehicle_ownership       married      children   postal_code  \\\n",
       "count       10000.000000  10000.000000  10000.000000  10000.000000   \n",
       "mean            0.697000      0.498200      0.688800  19864.548400   \n",
       "std             0.459578      0.500022      0.463008  18915.613855   \n",
       "min             0.000000      0.000000      0.000000  10238.000000   \n",
       "25%             0.000000      0.000000      0.000000  10238.000000   \n",
       "50%             1.000000      0.000000      1.000000  10238.000000   \n",
       "75%             1.000000      1.000000      1.000000  32765.000000   \n",
       "max             1.000000      1.000000      1.000000  92101.000000   \n",
       "\n",
       "       annual_mileage  speeding_violations         duis  past_accidents  \\\n",
       "count     9043.000000         10000.000000  10000.00000    10000.000000   \n",
       "mean     11697.003207             1.482900      0.23920        1.056300   \n",
       "std       2818.434528             2.241966      0.55499        1.652454   \n",
       "min       2000.000000             0.000000      0.00000        0.000000   \n",
       "25%      10000.000000             0.000000      0.00000        0.000000   \n",
       "50%      12000.000000             0.000000      0.00000        0.000000   \n",
       "75%      14000.000000             2.000000      0.00000        2.000000   \n",
       "max      22000.000000            22.000000      6.00000       15.000000   \n",
       "\n",
       "            outcome  \n",
       "count  10000.000000  \n",
       "mean       0.313300  \n",
       "std        0.463858  \n",
       "min        0.000000  \n",
       "25%        0.000000  \n",
       "50%        0.000000  \n",
       "75%        1.000000  \n",
       "max        1.000000  "
      ]
     },
     "execution_count": 55,
     "metadata": {},
     "output_type": "execute_result"
    }
   ],
   "source": [
    "df1.describe()"
   ]
  },
  {
   "cell_type": "code",
   "execution_count": 3,
   "id": "3578d47b-aef0-4dd2-aac1-3c00733770e2",
   "metadata": {},
   "outputs": [
    {
     "data": {
      "text/plain": [
       "id                       0\n",
       "age                      0\n",
       "gender                   0\n",
       "driving_experience       0\n",
       "education                0\n",
       "income                   0\n",
       "credit_score           982\n",
       "vehicle_ownership        0\n",
       "vehicle_year             0\n",
       "married                  0\n",
       "children                 0\n",
       "postal_code              0\n",
       "annual_mileage         957\n",
       "vehicle_type             0\n",
       "speeding_violations      0\n",
       "duis                     0\n",
       "past_accidents           0\n",
       "outcome                  0\n",
       "dtype: int64"
      ]
     },
     "execution_count": 3,
     "metadata": {},
     "output_type": "execute_result"
    }
   ],
   "source": [
    "# Check how many missing (NA) values are present in each column of the dataframe\n",
    "\n",
    "\n",
    "df1.isna().sum()"
   ]
  },
  {
   "cell_type": "code",
   "execution_count": 4,
   "id": "ba50213b-a77a-4186-ad32-17fddab8665b",
   "metadata": {},
   "outputs": [
    {
     "name": "stdout",
     "output_type": "stream",
     "text": [
      "\n",
      "Filled missing values in 'annual_mileage' column with its median value: 12000.0\n",
      "Number of missing values in 'annual_mileage' after fillna: 0\n",
      "\n",
      "Filled missing values in 'credit_score' column with its median value: 0.5250327586154788\n",
      "Number of missing values in 'credit_score' after fillna: 0\n",
      "\n",
      "Final check after filling missing values:\n",
      "Missing values in 'annual_mileage': 0\n",
      "Missing values in 'credit_score': 0\n"
     ]
    }
   ],
   "source": [
    "# List of columns to process for missing values imputation\n",
    "columns_to_process = ['annual_mileage', 'credit_score']\n",
    "\n",
    "for col_name in columns_to_process:\n",
    "    if col_name in df1.columns:\n",
    "        if pd.api.types.is_numeric_dtype(df1[col_name]):\n",
    "            # Fill missing values (NaNs) in the current column with its own median\n",
    "            median_value = df1[col_name].median()\n",
    "            df1[col_name] = df1[col_name].fillna(median_value)\n",
    "            print(f\"\\nFilled missing values in '{col_name}' column with its median value: {median_value}\")\n",
    "            print(f\"Number of missing values in '{col_name}' after fillna: {df1[col_name].isnull().sum()}\")\n",
    "        else:\n",
    "            print(f\"\\nWarning: Column '{col_name}' is not numeric. Cannot fill with median.\")\n",
    "            print(f\"Current dtype of '{col_name}': {df1[col_name].dtype}\")\n",
    "    else:\n",
    "        print(f\"\\nError: Column '{col_name}' not found in the DataFrame.\")\n",
    "        print(\"Available columns are:\")\n",
    "        print(df1.columns.tolist())\n",
    "        print(f\"Please check the exact spelling of '{col_name}' or choose an existing column.\")\n",
    "\n",
    "print(\"\\nFinal check after filling missing values:\")\n",
    "for col_name in columns_to_process:\n",
    "    if col_name in df1.columns:\n",
    "        print(f\"Missing values in '{col_name}': {df1[col_name].isnull().sum()}\")\n",
    "\n",
    "\n"
   ]
  },
  {
   "cell_type": "code",
   "execution_count": 10,
   "id": "787a0509-7ce6-425a-bbd6-3bc5c3d15f32",
   "metadata": {},
   "outputs": [
    {
     "name": "stdout",
     "output_type": "stream",
     "text": [
      "\n",
      "No specified columns to drop were found in the DataFrame: ['id', 'postal_code']\n",
      "Available columns are:\n"
     ]
    },
    {
     "ename": "NameError",
     "evalue": "name 'df' is not defined",
     "output_type": "error",
     "traceback": [
      "\u001b[31m---------------------------------------------------------------------------\u001b[39m",
      "\u001b[31mNameError\u001b[39m                                 Traceback (most recent call last)",
      "\u001b[36mCell\u001b[39m\u001b[36m \u001b[39m\u001b[32mIn[10]\u001b[39m\u001b[32m, line 10\u001b[39m\n\u001b[32m      8\u001b[39m \u001b[38;5;28mprint\u001b[39m(\u001b[33mf\u001b[39m\u001b[33m\"\u001b[39m\u001b[38;5;130;01m\\n\u001b[39;00m\u001b[33mNo specified columns to drop were found in the DataFrame: \u001b[39m\u001b[38;5;132;01m{\u001b[39;00mcolumns_to_drop\u001b[38;5;132;01m}\u001b[39;00m\u001b[33m\"\u001b[39m)\n\u001b[32m      9\u001b[39m \u001b[38;5;28mprint\u001b[39m(\u001b[33m\"\u001b[39m\u001b[33mAvailable columns are:\u001b[39m\u001b[33m\"\u001b[39m)\n\u001b[32m---> \u001b[39m\u001b[32m10\u001b[39m \u001b[38;5;28mprint\u001b[39m(\u001b[43mdf\u001b[49m.columns.tolist())\n",
      "\u001b[31mNameError\u001b[39m: name 'df' is not defined"
     ]
    }
   ],
   "source": [
    "    columns_to_drop = ['id', 'postal_code']\n",
    "    # Check if columns exist before attempting to drop\n",
    "    existing_columns_to_drop = [col for col in columns_to_drop if col in df1.columns]\n",
    "    if existing_columns_to_drop:\n",
    "        df1 = df1.drop(columns=existing_columns_to_drop)\n",
    "        print(f\"\\nSuccessfully dropped columns: {existing_columns_to_drop}\")\n",
    "    else:\n",
    "        print(f\"\\nNo specified columns to drop were found in the DataFrame: {columns_to_drop}\")\n",
    "        print(\"Available columns are:\")\n",
    "        print(df.columns.tolist())\n"
   ]
  },
  {
   "cell_type": "code",
   "execution_count": 11,
   "id": "0ee9cf4b-8440-4622-bf08-f661369fddb5",
   "metadata": {},
   "outputs": [
    {
     "name": "stdout",
     "output_type": "stream",
     "text": [
      "      age  gender driving_experience    education         income  \\\n",
      "0       3       0               0-9y  high school    upper class   \n",
      "1       0       1               0-9y         none        poverty   \n",
      "2       0       0               0-9y  high school  working class   \n",
      "3       0       1               0-9y   university  working class   \n",
      "4       1       1             10-19y         none  working class   \n",
      "...   ...     ...                ...          ...            ...   \n",
      "9995    1       0             10-19y   university    upper class   \n",
      "9996    1       0             10-19y         none   middle class   \n",
      "9997    1       1               0-9y  high school   middle class   \n",
      "9998    1       0             10-19y  high school        poverty   \n",
      "9999    1       0               0-9y         none  working class   \n",
      "\n",
      "      credit_score  vehicle_ownership vehicle_year  married  children  \\\n",
      "0         0.629027                1.0   after 2015      0.0       1.0   \n",
      "1         0.357757                0.0  before 2015      0.0       0.0   \n",
      "2         0.493146                1.0  before 2015      0.0       0.0   \n",
      "3         0.206013                1.0  before 2015      0.0       1.0   \n",
      "4         0.388366                1.0  before 2015      0.0       0.0   \n",
      "...            ...                ...          ...      ...       ...   \n",
      "9995      0.582787                1.0  before 2015      0.0       0.0   \n",
      "9996      0.522231                1.0   after 2015      0.0       1.0   \n",
      "9997      0.470940                1.0  before 2015      0.0       1.0   \n",
      "9998      0.364185                0.0  before 2015      0.0       1.0   \n",
      "9999      0.435225                1.0  before 2015      1.0       1.0   \n",
      "\n",
      "      annual_mileage vehicle_type  speeding_violations  duis  past_accidents  \\\n",
      "0            12000.0        sedan                    0     0               0   \n",
      "1            16000.0        sedan                    0     0               0   \n",
      "2            11000.0        sedan                    0     0               0   \n",
      "3            11000.0        sedan                    0     0               0   \n",
      "4            12000.0        sedan                    2     0               1   \n",
      "...              ...          ...                  ...   ...             ...   \n",
      "9995         16000.0        sedan                    0     0               1   \n",
      "9996         12000.0        sedan                    1     0               0   \n",
      "9997         14000.0        sedan                    0     0               0   \n",
      "9998         13000.0        sedan                    2     0               1   \n",
      "9999         13000.0        sedan                    0     0               0   \n",
      "\n",
      "      outcome  \n",
      "0         0.0  \n",
      "1         1.0  \n",
      "2         0.0  \n",
      "3         0.0  \n",
      "4         1.0  \n",
      "...       ...  \n",
      "9995      0.0  \n",
      "9996      0.0  \n",
      "9997      0.0  \n",
      "9998      1.0  \n",
      "9999      0.0  \n",
      "\n",
      "[10000 rows x 16 columns]\n"
     ]
    }
   ],
   "source": [
    "print(df1)"
   ]
  },
  {
   "cell_type": "code",
   "execution_count": 12,
   "id": "3902553a-2aca-476b-9ff4-17bb4b5e2453",
   "metadata": {},
   "outputs": [
    {
     "name": "stdout",
     "output_type": "stream",
     "text": [
      "      age  gender driving_experience    education         income  \\\n",
      "9995    1       0             10-19y   university    upper class   \n",
      "9996    1       0             10-19y         none   middle class   \n",
      "9997    1       1               0-9y  high school   middle class   \n",
      "9998    1       0             10-19y  high school        poverty   \n",
      "9999    1       0               0-9y         none  working class   \n",
      "\n",
      "      credit_score  vehicle_ownership vehicle_year  married  children  \\\n",
      "9995      0.582787                1.0  before 2015      0.0       0.0   \n",
      "9996      0.522231                1.0   after 2015      0.0       1.0   \n",
      "9997      0.470940                1.0  before 2015      0.0       1.0   \n",
      "9998      0.364185                0.0  before 2015      0.0       1.0   \n",
      "9999      0.435225                1.0  before 2015      1.0       1.0   \n",
      "\n",
      "      annual_mileage vehicle_type  speeding_violations  duis  past_accidents  \\\n",
      "9995         16000.0        sedan                    0     0               1   \n",
      "9996         12000.0        sedan                    1     0               0   \n",
      "9997         14000.0        sedan                    0     0               0   \n",
      "9998         13000.0        sedan                    2     0               1   \n",
      "9999         13000.0        sedan                    0     0               0   \n",
      "\n",
      "      outcome  \n",
      "9995      0.0  \n",
      "9996      0.0  \n",
      "9997      0.0  \n",
      "9998      1.0  \n",
      "9999      0.0  \n",
      "RangeIndex(start=9995, stop=10000, step=1)\n"
     ]
    }
   ],
   "source": [
    "print(df1.tail(5))\n",
    "print(df1.index[-5:])\n"
   ]
  },
  {
   "cell_type": "code",
   "execution_count": 62,
   "id": "b3b29c17-36f9-433f-9f5e-c00f6a32f34f",
   "metadata": {},
   "outputs": [],
   "source": [
    "\n"
   ]
  },
  {
   "cell_type": "code",
   "execution_count": 13,
   "id": "e5feab40-e08f-4dfd-a87c-95c6a775c350",
   "metadata": {},
   "outputs": [
    {
     "data": {
      "text/html": [
       "<div>\n",
       "<style scoped>\n",
       "    .dataframe tbody tr th:only-of-type {\n",
       "        vertical-align: middle;\n",
       "    }\n",
       "\n",
       "    .dataframe tbody tr th {\n",
       "        vertical-align: top;\n",
       "    }\n",
       "\n",
       "    .dataframe thead th {\n",
       "        text-align: right;\n",
       "    }\n",
       "</style>\n",
       "<table border=\"1\" class=\"dataframe\">\n",
       "  <thead>\n",
       "    <tr style=\"text-align: right;\">\n",
       "      <th></th>\n",
       "      <th>gender</th>\n",
       "      <th>vehicle_ownership</th>\n",
       "      <th>married</th>\n",
       "      <th>outcome</th>\n",
       "    </tr>\n",
       "  </thead>\n",
       "  <tbody>\n",
       "    <tr>\n",
       "      <th>0</th>\n",
       "      <td>0</td>\n",
       "      <td>1.0</td>\n",
       "      <td>0.0</td>\n",
       "      <td>0.0</td>\n",
       "    </tr>\n",
       "    <tr>\n",
       "      <th>1</th>\n",
       "      <td>1</td>\n",
       "      <td>0.0</td>\n",
       "      <td>0.0</td>\n",
       "      <td>1.0</td>\n",
       "    </tr>\n",
       "    <tr>\n",
       "      <th>2</th>\n",
       "      <td>0</td>\n",
       "      <td>1.0</td>\n",
       "      <td>0.0</td>\n",
       "      <td>0.0</td>\n",
       "    </tr>\n",
       "    <tr>\n",
       "      <th>3</th>\n",
       "      <td>1</td>\n",
       "      <td>1.0</td>\n",
       "      <td>0.0</td>\n",
       "      <td>0.0</td>\n",
       "    </tr>\n",
       "    <tr>\n",
       "      <th>4</th>\n",
       "      <td>1</td>\n",
       "      <td>1.0</td>\n",
       "      <td>0.0</td>\n",
       "      <td>1.0</td>\n",
       "    </tr>\n",
       "    <tr>\n",
       "      <th>...</th>\n",
       "      <td>...</td>\n",
       "      <td>...</td>\n",
       "      <td>...</td>\n",
       "      <td>...</td>\n",
       "    </tr>\n",
       "    <tr>\n",
       "      <th>9995</th>\n",
       "      <td>0</td>\n",
       "      <td>1.0</td>\n",
       "      <td>0.0</td>\n",
       "      <td>0.0</td>\n",
       "    </tr>\n",
       "    <tr>\n",
       "      <th>9996</th>\n",
       "      <td>0</td>\n",
       "      <td>1.0</td>\n",
       "      <td>0.0</td>\n",
       "      <td>0.0</td>\n",
       "    </tr>\n",
       "    <tr>\n",
       "      <th>9997</th>\n",
       "      <td>1</td>\n",
       "      <td>1.0</td>\n",
       "      <td>0.0</td>\n",
       "      <td>0.0</td>\n",
       "    </tr>\n",
       "    <tr>\n",
       "      <th>9998</th>\n",
       "      <td>0</td>\n",
       "      <td>0.0</td>\n",
       "      <td>0.0</td>\n",
       "      <td>1.0</td>\n",
       "    </tr>\n",
       "    <tr>\n",
       "      <th>9999</th>\n",
       "      <td>0</td>\n",
       "      <td>1.0</td>\n",
       "      <td>1.0</td>\n",
       "      <td>0.0</td>\n",
       "    </tr>\n",
       "  </tbody>\n",
       "</table>\n",
       "<p>10000 rows × 4 columns</p>\n",
       "</div>"
      ],
      "text/plain": [
       "      gender  vehicle_ownership  married  outcome\n",
       "0          0                1.0      0.0      0.0\n",
       "1          1                0.0      0.0      1.0\n",
       "2          0                1.0      0.0      0.0\n",
       "3          1                1.0      0.0      0.0\n",
       "4          1                1.0      0.0      1.0\n",
       "...      ...                ...      ...      ...\n",
       "9995       0                1.0      0.0      0.0\n",
       "9996       0                1.0      0.0      0.0\n",
       "9997       1                1.0      0.0      0.0\n",
       "9998       0                0.0      0.0      1.0\n",
       "9999       0                1.0      1.0      0.0\n",
       "\n",
       "[10000 rows x 4 columns]"
      ]
     },
     "execution_count": 13,
     "metadata": {},
     "output_type": "execute_result"
    }
   ],
   "source": [
    "df1[[\"gender\", \"vehicle_ownership\",\"married\",\"outcome\"]]"
   ]
  },
  {
   "cell_type": "code",
   "execution_count": 14,
   "id": "66950e1a-6855-48ac-a6b9-3ee0949e7a4e",
   "metadata": {},
   "outputs": [
    {
     "name": "stdout",
     "output_type": "stream",
     "text": [
      "gender                 int64\n",
      "vehicle_ownership    float64\n",
      "married              float64\n",
      "outcome              float64\n",
      "dtype: object\n"
     ]
    }
   ],
   "source": [
    "print(df1.dtypes[['gender', 'vehicle_ownership', 'married', 'outcome']])\n"
   ]
  },
  {
   "cell_type": "code",
   "execution_count": 15,
   "id": "988cc9e4-7588-4153-a9bc-fa0f7a5c81c9",
   "metadata": {},
   "outputs": [
    {
     "name": "stdout",
     "output_type": "stream",
     "text": [
      "['0-9y' '10-19y' '20-29y' '30y+']\n"
     ]
    }
   ],
   "source": [
    "print(df1['driving_experience'].unique())\n"
   ]
  },
  {
   "cell_type": "code",
   "execution_count": 17,
   "id": "27f8f5bf-bc44-4fb3-919a-f0e86fe20007",
   "metadata": {},
   "outputs": [
    {
     "name": "stdout",
     "output_type": "stream",
     "text": [
      "Encoded classes: ['0-9y' '10-19y' '20-29y' '30y+']\n",
      "[0 1 2 3]\n"
     ]
    }
   ],
   "source": [
    "from sklearn.preprocessing import LabelEncoder\n",
    "\n",
    "# Create the encoder\n",
    "le_experience = LabelEncoder()\n",
    "\n",
    "# Apply LabelEncoder\n",
    "df1['driving_experience'] = le_experience.fit_transform(df1['driving_experience'])\n",
    "\n",
    "# Check encoding\n",
    "print(\"Encoded classes:\", le_experience.classes_)\n",
    "print(df1['driving_experience'].unique())\n",
    "\n"
   ]
  },
  {
   "cell_type": "code",
   "execution_count": 18,
   "id": "6e28dce7-e0c5-4687-8ddd-043c8b6428e3",
   "metadata": {},
   "outputs": [
    {
     "name": "stdout",
     "output_type": "stream",
     "text": [
      "[0 1 2 3]\n"
     ]
    }
   ],
   "source": [
    "print(df1['driving_experience'].unique())"
   ]
  },
  {
   "cell_type": "code",
   "execution_count": 19,
   "id": "b5275457-2567-4726-a13e-e3da52d6bbe7",
   "metadata": {},
   "outputs": [
    {
     "name": "stdout",
     "output_type": "stream",
     "text": [
      "['high school' 'none' 'university']\n"
     ]
    }
   ],
   "source": [
    "print(df1['education'].unique())"
   ]
  },
  {
   "cell_type": "code",
   "execution_count": 20,
   "id": "945a7f9f-30e8-4e29-87fb-1fc49693c32c",
   "metadata": {},
   "outputs": [
    {
     "name": "stdout",
     "output_type": "stream",
     "text": [
      "Index(['age', 'gender', 'driving_experience', 'education', 'income',\n",
      "       'credit_score', 'vehicle_ownership', 'vehicle_year', 'married',\n",
      "       'children', 'annual_mileage', 'vehicle_type', 'speeding_violations',\n",
      "       'duis', 'past_accidents', 'outcome'],\n",
      "      dtype='object')\n"
     ]
    }
   ],
   "source": [
    "print(df1.columns)"
   ]
  },
  {
   "cell_type": "code",
   "execution_count": 21,
   "id": "af5fc733-6298-429f-a33f-3aec813c9c9d",
   "metadata": {},
   "outputs": [
    {
     "data": {
      "text/plain": [
       "array(['after 2015', 'before 2015'], dtype=object)"
      ]
     },
     "execution_count": 21,
     "metadata": {},
     "output_type": "execute_result"
    }
   ],
   "source": [
    "df1['vehicle_year'].unique()\n"
   ]
  },
  {
   "cell_type": "code",
   "execution_count": 22,
   "id": "904f35e8-8139-46a4-bc60-df7454472368",
   "metadata": {},
   "outputs": [],
   "source": [
    "from sklearn.preprocessing import OrdinalEncoder\n",
    "\n",
    "# Define the order of categories\n",
    "education_order = [['none', 'high school', 'university']]\n",
    "\n",
    "# Create the encoder\n",
    "ordinal_encoder = OrdinalEncoder(categories=education_order)\n",
    "\n",
    "# Fill missing values if any (optional but recommended)\n",
    "df1['education'] = df1['education'].fillna('high school')  # or use mode\n",
    "\n",
    "# Apply ordinal encoding\n",
    "df1[['education']] = ordinal_encoder.fit_transform(df1[['education']])\n"
   ]
  },
  {
   "cell_type": "code",
   "execution_count": 25,
   "id": "b9cb5d00-6df9-49e1-9a45-131253147628",
   "metadata": {},
   "outputs": [],
   "source": [
    "# Always ensure clean string formatting\n",
    "df1['income'] = df1['income'].astype(str).str.title()\n",
    "df1['vehicle_year'] = df1['vehicle_year'].astype(str).str.lower()\n",
    "df1['vehicle_type'] = df1['vehicle_type'].astype(str).str.lower()\n",
    "\n",
    "\n",
    "\n",
    "\n",
    "\n",
    "\n"
   ]
  },
  {
   "cell_type": "code",
   "execution_count": 26,
   "id": "ba6029f6-403b-49c9-bf75-b3d33899d162",
   "metadata": {},
   "outputs": [
    {
     "name": "stdout",
     "output_type": "stream",
     "text": [
      "['Upper Class' 'Poverty' 'Working Class' 'Middle Class']\n",
      "['after 2015' 'before 2015']\n",
      "['sedan' 'sports car']\n"
     ]
    }
   ],
   "source": [
    "print(df1['income'].unique())\n",
    "print(df1['vehicle_year'].unique())\n",
    "print(df1['vehicle_type'].unique())\n"
   ]
  },
  {
   "cell_type": "code",
   "execution_count": 27,
   "id": "f741f968-50d2-44f9-8fa8-95efaa6ef6a4",
   "metadata": {},
   "outputs": [],
   "source": [
    "ordinal_cols = ['income', 'vehicle_year', 'vehicle_type']\n",
    "\n",
    "# Convert to categorical\n",
    "for col in ordinal_cols:\n",
    "    df1[col] = df1[col].astype('category')\n",
    "\n",
    "# Define category order\n",
    "category_orders = [\n",
    "    ['Poverty', 'Working Class', 'Middle Class', 'Upper Class'],  # income\n",
    "    ['before 2015', 'after 2015'],                                # vehicle_year\n",
    "    ['sedan', 'sports car']                                       # vehicle_type\n",
    "]\n",
    "\n",
    "# Initialize and apply the encoder\n",
    "from sklearn.preprocessing import OrdinalEncoder\n",
    "\n",
    "ord_encoder = OrdinalEncoder(categories=category_orders)\n",
    "df1[ordinal_cols] = ord_encoder.fit_transform(df1[ordinal_cols])\n"
   ]
  },
  {
   "cell_type": "code",
   "execution_count": 28,
   "id": "8fb8826c-a949-4509-8095-5333572842ee",
   "metadata": {},
   "outputs": [
    {
     "data": {
      "text/plain": [
       "age                    0\n",
       "gender                 0\n",
       "driving_experience     0\n",
       "education              0\n",
       "income                 0\n",
       "credit_score           0\n",
       "vehicle_ownership      0\n",
       "vehicle_year           0\n",
       "married                0\n",
       "children               0\n",
       "annual_mileage         0\n",
       "vehicle_type           0\n",
       "speeding_violations    0\n",
       "duis                   0\n",
       "past_accidents         0\n",
       "outcome                0\n",
       "dtype: int64"
      ]
     },
     "execution_count": 28,
     "metadata": {},
     "output_type": "execute_result"
    }
   ],
   "source": [
    "df1.isnull().sum()"
   ]
  },
  {
   "cell_type": "code",
   "execution_count": 29,
   "id": "fd256966-54e2-4e97-9d2e-81c86f22f5f0",
   "metadata": {},
   "outputs": [],
   "source": [
    "from sklearn.model_selection import train_test_split\n",
    "from sklearn.preprocessing import StandardScaler\n",
    "from sklearn.impute import SimpleImputer\n",
    "from sklearn.linear_model import LogisticRegression\n",
    "from sklearn.compose import ColumnTransformer\n",
    "from sklearn.pipeline import Pipeline\n",
    "\n",
    "# Split data\n",
    "X = df1.drop(\"outcome\", axis=1)\n",
    "y = df1[\"outcome\"]\n",
    "X_train, X_test, y_train, y_test = train_test_split(X, y, test_size=0.2, random_state=42)\n",
    "\n",
    "# Define column types\n",
    "numeric_features = ['credit_score', 'annual_mileage', 'speeding_violations', 'duis', 'past_accidents', 'children']\n",
    "categorical_features = [col for col in X.columns if col not in numeric_features]\n",
    "\n",
    "# Preprocessing pipeline\n",
    "numeric_transformer = Pipeline(steps=[\n",
    "    ('imputer', SimpleImputer(strategy='median')),  # Fill NaNs\n",
    "    ('scaler', StandardScaler())                    # Then scale\n",
    "])\n",
    "\n",
    "preprocessor = ColumnTransformer([\n",
    "    ('num', numeric_transformer, numeric_features),\n",
    "    ('cat', 'passthrough', categorical_features)\n",
    "])\n",
    "\n",
    "# Combine into full model pipeline\n",
    "clf = Pipeline(steps=[\n",
    "    ('preprocessor', preprocessor),\n",
    "    ('classifier', LogisticRegression(max_iter=1000))\n",
    "])\n",
    "\n",
    "# Fit model\n",
    "clf.fit(X_train, y_train)\n",
    "\n",
    "# Predict\n",
    "y_pred = clf.predict(X_test)\n",
    "\n",
    "\n"
   ]
  },
  {
   "cell_type": "code",
   "execution_count": 30,
   "id": "60382744-cc82-40fd-8071-96c27e46d874",
   "metadata": {},
   "outputs": [
    {
     "name": "stdout",
     "output_type": "stream",
     "text": [
      "Accuracy: 0.845\n",
      "\n",
      "Classification Report:\n",
      "               precision    recall  f1-score   support\n",
      "\n",
      "         0.0       0.87      0.91      0.89      1367\n",
      "         1.0       0.79      0.70      0.74       633\n",
      "\n",
      "    accuracy                           0.84      2000\n",
      "   macro avg       0.83      0.81      0.82      2000\n",
      "weighted avg       0.84      0.84      0.84      2000\n",
      "\n",
      "\n",
      "Confusion Matrix:\n",
      " [[1246  121]\n",
      " [ 189  444]]\n"
     ]
    }
   ],
   "source": [
    "from sklearn.metrics import accuracy_score, classification_report, confusion_matrix\n",
    "\n",
    "print(\"Accuracy:\", accuracy_score(y_test, y_pred))\n",
    "print(\"\\nClassification Report:\\n\", classification_report(y_test, y_pred))\n",
    "print(\"\\nConfusion Matrix:\\n\", confusion_matrix(y_test, y_pred))\n"
   ]
  },
  {
   "cell_type": "code",
   "execution_count": 31,
   "id": "78b7233d-54a8-43ef-85ba-274149917cb1",
   "metadata": {},
   "outputs": [
    {
     "data": {
      "image/png": "[encoded data removed]",
      "text/plain": [
       "<Figure size 800x600 with 1 Axes>"
      ]
     },
     "metadata": {},
     "output_type": "display_data"
    }
   ],
   "source": [
    "from sklearn.metrics import roc_curve, roc_auc_score\n",
    "\n",
    "# Predict probabilities for positive class\n",
    "y_proba = clf.predict_proba(X_test)[:,1]\n",
    "\n",
    "fpr, tpr, thresholds = roc_curve(y_test, y_proba)\n",
    "auc = roc_auc_score(y_test, y_proba)\n",
    "\n",
    "plt.figure(figsize=(8,6))\n",
    "plt.plot(fpr, tpr, label=f'ROC curve (AUC = {auc:.2f})')\n",
    "plt.plot([0,1], [0,1], 'k--')  # Diagonal line\n",
    "plt.xlabel('False Positive Rate')\n",
    "plt.ylabel('True Positive Rate')\n",
    "plt.title('Receiver Operating Characteristic (ROC) Curve')\n",
    "plt.legend(loc='lower right')\n",
    "plt.show()\n"
   ]
  },
  {
   "cell_type": "code",
   "execution_count": null,
   "id": "cc02a086-1e78-462b-b4f0-8f8146e655e1",
   "metadata": {},
   "outputs": [],
   "source": [
    "# Conclusion\n",
    "\n",
    "- The logistic regression model effectively predicts credit card approval with interpretable coefficients and solid performance.\n",
    "- The ROC curve analysis shows an AUC score of 0.9, demonstrating the model’s ability to distinguish between approved and rejected applications.\n",
    "- Proper data preprocessing, including missing value imputation and encoding of categorical variables, was crucial to prepare the data for modeling.\n",
    "- Logistic regression provides clear insights into feature impacts, making it useful for understanding key factors affecting approval decisions.\n",
    "- Future work could explore feature selection, hyperparameter tuning, and comparing logistic regression with more complex models like Random Forest or Gradient Boosting to potentially improve accuracy.\n",
    "- This project lays a strong foundation for credit approval prediction with transparent and interpretable results.\n"
   ]
  },
  {
   "cell_type": "code",
   "execution_count": null,
   "id": "f84f31fc-8d6c-46d5-846d-86e0a20129e5",
   "metadata": {},
   "outputs": [],
   "source": [
    "While Random Forests and Decision Trees are powerful and often deliver higher accuracy due to their ability to capture complex, nonlinear relationships, I chose logistic regression here because:\n",
    "\n",
    "Interpretability: Logistic regression provides straightforward coefficients that explain the influence of each feature on the outcome, which is crucial in credit approval where transparency and regulatory compliance matter.\n",
    "\n",
    "Simplicity & Efficiency: Logistic regression is computationally efficient and easy to implement, making it a great baseline model especially when the dataset isn’t very large or complex.\n",
    "\n",
    "Risk of Overfitting: Decision Trees can overfit easily if not tuned carefully, and while Random Forests reduce overfitting, they are more complex and less interpretable.\n",
    "\n",
    "However, Random Forests could be used as a next step to potentially improve prediction performance. choice depends on the trade-off between interpretability and accuracy.\n",
    "\n",
    "To distinguish between when to use logistic regression vs. tree-based models, I consider factors like:\n",
    "\n",
    "The need for model explainability versus predictive power.\n",
    "\n",
    "The size and complexity of the dataset.\n",
    "\n",
    "Whether relationships between features and target are expected to be linear or nonlinear.\n",
    "\n",
    "In this project, logistic regression offers a good balance of interpretability and performance, especially given the importance of understanding credit risk factors."
   ]
  }
 ],
 "metadata": {
  "kernelspec": {
   "display_name": "Python 3 (ipykernel)",
   "language": "python",
   "name": "python3"
  },
  "language_info": {
   "codemirror_mode": {
    "name": "ipython",
    "version": 3
   },
   "file_extension": ".py",
   "mimetype": "text/x-python",
   "name": "python",
   "nbconvert_exporter": "python",
   "pygments_lexer": "ipython3",
   "version": "3.13.2"
  }
 },
 "nbformat": 4,
 "nbformat_minor": 5
}
